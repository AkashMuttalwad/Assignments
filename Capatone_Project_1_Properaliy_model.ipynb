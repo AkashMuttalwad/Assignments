{
  "nbformat": 4,
  "nbformat_minor": 0,
  "metadata": {
    "colab": {
      "name": "Capatone_Project 1-Properaliy model",
      "provenance": [],
      "mount_file_id": "1YVtOwMogplBzHIsuPER053VObMYRIcVp",
      "authorship_tag": "ABX9TyOou7rpQFIY8gDe83EcqCmg",
      "include_colab_link": true
    },
    "kernelspec": {
      "name": "python3",
      "display_name": "Python 3"
    },
    "language_info": {
      "name": "python"
    }
  },
  "cells": [
    {
      "cell_type": "markdown",
      "metadata": {
        "id": "view-in-github",
        "colab_type": "text"
      },
      "source": [
        "<a href=\"https://colab.research.google.com/github/AkashMuttalwad/Assignments/blob/main/Capatone_Project_1_Properaliy_model.ipynb\" target=\"_parent\"><img src=\"https://colab.research.google.com/assets/colab-badge.svg\" alt=\"Open In Colab\"/></a>"
      ]
    },
    {
      "cell_type": "markdown",
      "source": [
        "# **Business demand **_ We have larage number of customers. our seles team would like to call potantial customers who can buy our service. we don't have enough manpower and time to call and reach every customer and conviance them for our products also we need to rank customers so that we could after them our product and services with discounted services ****\n",
        "\n"
      ],
      "metadata": {
        "id": "pzUNu3PTSJQt"
      }
    },
    {
      "cell_type": "code",
      "source": [
        "import pandas as pd \n",
        "import numpy as np \n",
        "import matplotlib \n",
        "import seaborn as sns"
      ],
      "metadata": {
        "id": "VNmlX-tUTJDD"
      },
      "execution_count": 5,
      "outputs": []
    },
    {
      "cell_type": "code",
      "source": [
        "# Load the xlsx file\n",
        "excel_data = pd.read_excel('/content/drive/MyDrive/Python/Online Retail_project1.csv123.xlsx')\n",
        "# Read the values of the file in the dataframe\n",
        "data = pd.DataFrame(excel_data, columns=['Stock Code', 'Description', 'Country'])\n",
        "# Print the content\n",
        "print(\"The content of the file is:\\n\", data)"
      ],
      "metadata": {
        "colab": {
          "base_uri": "https://localhost:8080/"
        },
        "id": "4WJAFIXOTJMm",
        "outputId": "f476526c-f2b6-4799-fed9-279bd420f380"
      },
      "execution_count": 24,
      "outputs": [
        {
          "output_type": "stream",
          "name": "stdout",
          "text": [
            "The content of the file is:\n",
            "         Stock Code                          Description         Country\n",
            "0              NaN   WHITE HANGING HEART T-LIGHT HOLDER  United Kingdom\n",
            "1              NaN                  WHITE METAL LANTERN  United Kingdom\n",
            "2              NaN       CREAM CUPID HEARTS COAT HANGER  United Kingdom\n",
            "3              NaN  KNITTED UNION FLAG HOT WATER BOTTLE  United Kingdom\n",
            "4              NaN       RED WOOLLY HOTTIE WHITE HEART.  United Kingdom\n",
            "...            ...                                  ...             ...\n",
            "541904         NaN          PACK OF 20 SPACEBOY NAPKINS          France\n",
            "541905         NaN         CHILDREN'S APRON DOLLY GIRL           France\n",
            "541906         NaN        CHILDRENS CUTLERY DOLLY GIRL           France\n",
            "541907         NaN      CHILDRENS CUTLERY CIRCUS PARADE          France\n",
            "541908         NaN        BAKING SET 9 PIECE RETROSPOT           France\n",
            "\n",
            "[541909 rows x 3 columns]\n"
          ]
        }
      ]
    },
    {
      "cell_type": "code",
      "source": [
        ""
      ],
      "metadata": {
        "id": "tiHO6OR1TJO1"
      },
      "execution_count": null,
      "outputs": []
    },
    {
      "cell_type": "code",
      "source": [
        ""
      ],
      "metadata": {
        "id": "RaIiVFSJTJRm"
      },
      "execution_count": null,
      "outputs": []
    }
  ]
}